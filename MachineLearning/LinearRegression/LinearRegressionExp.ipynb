{
 "cells": [
  {
   "cell_type": "code",
   "execution_count": 1,
   "metadata": {},
   "outputs": [],
   "source": [
    "import numpy as np\n",
    "import matplotlib.pyplot as plt   "
   ]
  },
  {
   "cell_type": "code",
   "execution_count": 2,
   "metadata": {},
   "outputs": [],
   "source": [
    "class LinearRegression:\n",
    "    def __init__(self,x,y,w):\n",
    "        x = np.concatenate((np.ones((x.shape[0], 1, 1)), x), axis=1)\n",
    "        print(x[0].shape)\n",
    "        print(w.shape)\n",
    "        self.input = x\n",
    "        self.real = y\n",
    "        self.weight = w\n",
    "    def predict(self):\n",
    "        self.pred = np.zeros(self.input.shape[0])\n",
    "        for i in range(self.input.shape[0]):\n",
    "            # self.predict[i] = x[i].T*w\n",
    "            # print((x[i].T.dot(w)).shape)\n",
    "            # self.pred[i] = np.expand_dims(self.input[i].T.dot(self.weight), axis=0)\n",
    "            self.pred[i] = np.expand_dims(self.input[i].T.dot(self.weight), axis=0)\n",
    "    def loss_func(self):\n",
    "        loss_arr = (self.pred-self.real)**2\n",
    "        return np.sum(loss_arr)/self.input.shape[0]\n",
    "    def gradient_decent(self, lr):\n",
    "        self.predict()\n",
    "        accumulated_weight = np.zeros(self.weight.shape, dtype=np.float64)\n",
    "        for i in range(self.input.shape[0]):\n",
    "            accumulated_weight += ((self.pred[i] - self.real[i])*self.input[i])\n",
    "        accumulated_weight /= self.input.shape[0]\n",
    "        self.weight -= lr*accumulated_weight\n"
   ]
  },
  {
   "cell_type": "code",
   "execution_count": 3,
   "metadata": {},
   "outputs": [
    {
     "name": "stdout",
     "output_type": "stream",
     "text": [
      "(3, 1)\n",
      "(3, 1)\n",
      "[[8.93457282e-04]\n",
      " [8.86342838e-01]\n",
      " [1.55669638e+00]]\n",
      "[[1.]\n",
      " [4.]\n",
      " [8.]]\n",
      "[[15.99983586]]\n",
      "[ 4.00062922 15.99983581]\n",
      "2.1143796069018304e-07\n"
     ]
    }
   ],
   "source": [
    "x = np.array([[1,2],[4,8]])\n",
    "x = np.expand_dims(x, axis=2)\n",
    "y = np.array([4,16])\n",
    "w = np.random.randn(3,1)\n",
    "\n",
    "model = LinearRegression(x,y,w)\n",
    "for epoch in range(20000):\n",
    "    model.gradient_decent(1e-3)\n",
    "print(model.weight)\n",
    "print(model.input[1])\n",
    "print(model.weight.T.dot(model.input[1]))\n",
    "print(model.pred)\n",
    "print(model.loss_func())"
   ]
  },
  {
   "attachments": {},
   "cell_type": "markdown",
   "metadata": {},
   "source": [
    "# 水泥问题\n",
    "$f(x) = 0.75 +1.70x_1 +1.27x_2 +0.35x_3 +0.56x_4$"
   ]
  },
  {
   "cell_type": "code",
   "execution_count": 4,
   "metadata": {},
   "outputs": [
    {
     "name": "stdout",
     "output_type": "stream",
     "text": [
      "(13, 4, 1)\n",
      "[[[ 7]\n",
      "  [26]\n",
      "  [ 6]\n",
      "  [60]]\n",
      "\n",
      " [[ 1]\n",
      "  [29]\n",
      "  [15]\n",
      "  [52]]\n",
      "\n",
      " [[11]\n",
      "  [56]\n",
      "  [ 8]\n",
      "  [20]]\n",
      "\n",
      " [[11]\n",
      "  [31]\n",
      "  [ 8]\n",
      "  [47]]\n",
      "\n",
      " [[ 7]\n",
      "  [52]\n",
      "  [ 6]\n",
      "  [33]]\n",
      "\n",
      " [[11]\n",
      "  [55]\n",
      "  [ 9]\n",
      "  [22]]\n",
      "\n",
      " [[ 3]\n",
      "  [71]\n",
      "  [17]\n",
      "  [ 6]]\n",
      "\n",
      " [[ 1]\n",
      "  [31]\n",
      "  [22]\n",
      "  [44]]\n",
      "\n",
      " [[ 2]\n",
      "  [54]\n",
      "  [18]\n",
      "  [22]]\n",
      "\n",
      " [[21]\n",
      "  [47]\n",
      "  [ 4]\n",
      "  [26]]\n",
      "\n",
      " [[ 1]\n",
      "  [40]\n",
      "  [23]\n",
      "  [34]]\n",
      "\n",
      " [[11]\n",
      "  [66]\n",
      "  [ 9]\n",
      "  [12]]\n",
      "\n",
      " [[10]\n",
      "  [68]\n",
      "  [ 8]\n",
      "  [12]]]\n",
      "(13,)\n"
     ]
    }
   ],
   "source": [
    "learning_rate = 1e-5\n",
    "\n",
    "shape = 13\n",
    "x_dim = 4\n",
    "x = np.array([\n",
    "    [7, 26, 6, 60],\n",
    "    [1, 29, 15, 52],\n",
    "    [11, 56, 8, 20],\n",
    "    [11, 31, 8, 47],\n",
    "    [7, 52, 6, 33],\n",
    "    [11, 55, 9, 22],\n",
    "    [3, 71, 17, 6],\n",
    "    [1, 31, 22, 44],\n",
    "    [2, 54, 18, 22],\n",
    "    [21, 47, 4, 26],\n",
    "    [1, 40, 23, 34],\n",
    "    [11, 66, 9, 12],\n",
    "    [10, 68, 8, 12]\n",
    "])\n",
    "x = np.expand_dims(x, axis=2)\n",
    "y = np.array([\n",
    "    78.5,\n",
    "    74.3,\n",
    "    104.3,\n",
    "    87.6,\n",
    "    95.9,\n",
    "    109.2,\n",
    "    102.7,\n",
    "    72.5,\n",
    "    93.1,\n",
    "    115.9,\n",
    "    83.8,\n",
    "    113.3,\n",
    "    109.4\n",
    "])\n",
    "w = np.random.rand(x_dim+1, 1)\n",
    "print(x.shape)\n",
    "print(x)\n",
    "print(y.shape)\n"
   ]
  },
  {
   "cell_type": "code",
   "execution_count": 5,
   "metadata": {},
   "outputs": [
    {
     "name": "stdout",
     "output_type": "stream",
     "text": [
      "(5, 1)\n",
      "(5, 1)\n",
      "[[0.16805726]\n",
      " [0.78383458]\n",
      " [0.58348733]\n",
      " [0.75174095]\n",
      " [0.46615745]]\n",
      "[53.30546264 53.38932609 56.8026047  54.80167265 55.88988201 57.90317323\n",
      " 59.52370222 56.0892278  57.03084322 59.17954547 57.4307802  59.65995933\n",
      " 59.29135846]\n",
      "1643.9302809238786\n",
      "(13,)\n",
      "1643.9302809238786\n",
      "[[0.16844203]\n",
      " [0.78725886]\n",
      " [0.60351053]\n",
      " [0.75579496]\n",
      " [0.47610382]]\n"
     ]
    }
   ],
   "source": [
    "lg = LinearRegression(x,y,w)\n",
    "print(lg.weight)\n",
    "lg.predict()\n",
    "print(lg.pred)\n",
    "print(lg.loss_func())\n",
    "last_loss = lg.loss_func()\n",
    "# lg.real.shape\n",
    "print(lg.real.shape)\n",
    "lg.gradient_decent(learning_rate)\n",
    "print(lg.loss_func())\n",
    "print(lg.weight)"
   ]
  },
  {
   "cell_type": "code",
   "execution_count": 6,
   "metadata": {},
   "outputs": [],
   "source": [
    "for epoch in range(100000):\n",
    "# epoch = 0\n",
    "# while last_loss - lg.loss_func() > 0.0001:\n",
    "    last_loss = lg.loss_func()\n",
    "    lg.gradient_decent(learning_rate)\n",
    "    # epoch += 1\n",
    "    # print(\"epoch {}, loss:{}\".format(epoch+1, lg.loss_func()))"
   ]
  },
  {
   "cell_type": "code",
   "execution_count": 7,
   "metadata": {},
   "outputs": [
    {
     "name": "stdout",
     "output_type": "stream",
     "text": [
      "[[0.19444711]\n",
      " [2.19083675]\n",
      " [1.15137414]\n",
      " [0.75629081]\n",
      " [0.48439029]]\n"
     ]
    }
   ],
   "source": [
    "print(lg.weight)"
   ]
  },
  {
   "attachments": {},
   "cell_type": "markdown",
   "metadata": {},
   "source": [
    "# 读物问题\n",
    "$f(x) = 6.4 + 74.77x_1 + 0.91x_2$"
   ]
  },
  {
   "cell_type": "code",
   "execution_count": 8,
   "metadata": {},
   "outputs": [
    {
     "name": "stdout",
     "output_type": "stream",
     "text": [
      "(18, 2, 1)\n",
      "[[[  4. ]\n",
      "  [171.2]]\n",
      "\n",
      " [[  4. ]\n",
      "  [174.2]]\n",
      "\n",
      " [[  5. ]\n",
      "  [204.3]]\n",
      "\n",
      " [[  4. ]\n",
      "  [218.7]]\n",
      "\n",
      " [[  4. ]\n",
      "  [219.4]]\n",
      "\n",
      " [[  7. ]\n",
      "  [240.4]]\n",
      "\n",
      " [[  4. ]\n",
      "  [273.5]]\n",
      "\n",
      " [[  5. ]\n",
      "  [294.8]]\n",
      "\n",
      " [[ 10. ]\n",
      "  [330.2]]\n",
      "\n",
      " [[  7. ]\n",
      "  [333.1]]\n",
      "\n",
      " [[  5. ]\n",
      "  [366. ]]\n",
      "\n",
      " [[  6. ]\n",
      "  [350.9]]\n",
      "\n",
      " [[  4. ]\n",
      "  [357.9]]\n",
      "\n",
      " [[  5. ]\n",
      "  [359. ]]\n",
      "\n",
      " [[  7. ]\n",
      "  [371.9]]\n",
      "\n",
      " [[  9. ]\n",
      "  [435.3]]\n",
      "\n",
      " [[  8. ]\n",
      "  [523.9]]\n",
      "\n",
      " [[ 10. ]\n",
      "  [604.1]]]\n",
      "(18,)\n"
     ]
    }
   ],
   "source": [
    "\n",
    "shape = 18\n",
    "x_dim = 2\n",
    "x = np.array([\n",
    "   [4, 171.2],\n",
    "   [4, 174.2],\n",
    "   [5,204.3],\n",
    "   [4,218.7],\n",
    "   [4,219.4],\n",
    "   [7,240.4],\n",
    "   [4,273.5],\n",
    "   [5,294.8],\n",
    "   [10,330.2],\n",
    "   [7,333.1],\n",
    "   [5,366.0],\n",
    "   [6,350.9],\n",
    "   [4,357.9],\n",
    "   [5,359.0],\n",
    "   [7,371.9],\n",
    "   [9,435.3],\n",
    "   [8,523.9],\n",
    "   [10,604.1]\n",
    "])\n",
    "x = np.expand_dims(x, axis=2)\n",
    "y = np.array([\n",
    "    450.5,\n",
    "    507.7,\n",
    "    613.9,\n",
    "    563.4,\n",
    "    501.5,\n",
    "    781.5,\n",
    "    541.8,\n",
    "    611.1,\n",
    "    1222.1,\n",
    "    793.2,\n",
    "    660.8,\n",
    "    792.7,\n",
    "    580.8,\n",
    "    612.7,\n",
    "    890.8,\n",
    "    1121.0,\n",
    "    1094.2,\n",
    "    1253.0\n",
    "])\n",
    "w = np.random.normal(1, 0.1, (x_dim+1, 1))\n",
    "print(x.shape)\n",
    "print(x)\n",
    "print(y.shape)\n"
   ]
  },
  {
   "cell_type": "code",
   "execution_count": 9,
   "metadata": {},
   "outputs": [
    {
     "name": "stdout",
     "output_type": "stream",
     "text": [
      "(3, 1)\n",
      "(3, 1)\n",
      "[[0.85607322]\n",
      " [0.99823402]\n",
      " [0.92101518]]\n",
      "[162.5268081  165.28985364 194.01064457 206.27502915 206.91973977\n",
      " 229.25576061 256.74666101 277.36251836 314.95762582 314.63386779\n",
      " 342.93879917 330.02970398 334.4803422  336.49169291 350.36925677\n",
      " 410.75808722 491.36179815 567.22368362]\n",
      "234589.70670292515\n",
      "(18,)\n",
      "234589.70670292515\n",
      "[[0.86057381]\n",
      " [1.02874019]\n",
      " [2.48311868]]\n"
     ]
    }
   ],
   "source": [
    "lg = LinearRegression(x,y,w)\n",
    "epoch = 0\n",
    "print(lg.weight)\n",
    "lg.predict()\n",
    "print(lg.pred)\n",
    "print(lg.loss_func())\n",
    "last_loss = lg.loss_func()\n",
    "init_loss = last_loss\n",
    "# lg.real.shape\n",
    "print(lg.real.shape)\n",
    "lg.gradient_decent(learning_rate)\n",
    "print(lg.loss_func())\n",
    "print(lg.weight)"
   ]
  },
  {
   "cell_type": "code",
   "execution_count": 10,
   "metadata": {},
   "outputs": [],
   "source": [
    "# for epoch in range(100000):\n",
    "learning_rate = 1e-5\n",
    "while last_loss - lg.loss_func() > 1 or epoch < 300000:\n",
    "    last_loss = lg.loss_func()\n",
    "    lg.gradient_decent(learning_rate)\n",
    "    epoch += 1\n",
    "    # print(\"epoch {}, loss:{}\".format(epoch+1, lg.loss_func()))"
   ]
  },
  {
   "cell_type": "code",
   "execution_count": 11,
   "metadata": {},
   "outputs": [
    {
     "name": "stdout",
     "output_type": "stream",
     "text": [
      "weight =  [[  6.9427557 ]\n",
      " [103.58257035]\n",
      " [  0.39351693]]\n",
      "loss =  1287.137792656436\n",
      "init_loss = 234589.70670292515\n"
     ]
    }
   ],
   "source": [
    "print(\"weight = \", lg.weight)\n",
    "print(\"loss = \", last_loss)\n",
    "print(\"init_loss =\", init_loss)"
   ]
  }
 ],
 "metadata": {
  "kernelspec": {
   "display_name": "base",
   "language": "python",
   "name": "python3"
  },
  "language_info": {
   "codemirror_mode": {
    "name": "ipython",
    "version": 3
   },
   "file_extension": ".py",
   "mimetype": "text/x-python",
   "name": "python",
   "nbconvert_exporter": "python",
   "pygments_lexer": "ipython3",
   "version": "3.10.9"
  },
  "orig_nbformat": 4,
  "vscode": {
   "interpreter": {
    "hash": "88279d2366fe020547cde40dd65aa0e3aa662a6ec1f3ca12d88834876c85e1a6"
   }
  }
 },
 "nbformat": 4,
 "nbformat_minor": 2
}
