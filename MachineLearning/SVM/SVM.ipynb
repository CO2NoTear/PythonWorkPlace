{
 "cells": [
  {
   "cell_type": "code",
   "execution_count": 1,
   "metadata": {},
   "outputs": [],
   "source": [
    "import numpy as np\n",
    "import matplotlib.pyplot as plt\n",
    "from sklearn import svm\n",
    "import pandas as pd"
   ]
  },
  {
   "cell_type": "code",
   "execution_count": 7,
   "metadata": {},
   "outputs": [
    {
     "name": "stdout",
     "output_type": "stream",
     "text": [
      "     x1   x2  x3  x4   x5    x6     x7  x8  label\n",
      "0     6  148  72  35    0  33.6  0.627  50      1\n",
      "1     1   85  66  29    0  26.6  0.351  31      0\n",
      "2     8  183  64   0    0  23.3  0.672  32      1\n",
      "3     1   89  66  23   94  28.1  0.167  21      0\n",
      "4     0  137  40  35  168  43.1  2.288  33      1\n",
      "..   ..  ...  ..  ..  ...   ...    ...  ..    ...\n",
      "569   0  121  66  30  165  34.3  0.203  33      1\n",
      "570   3   78  70   0    0  32.5  0.270  39      0\n",
      "571   2  130  96   0    0  22.6  0.268  21      0\n",
      "572   3  111  58  31   44  29.5  0.430  22      0\n",
      "573   2   98  60  17  120  34.7  0.198  22      0\n",
      "\n",
      "[574 rows x 9 columns]\n",
      "     x1   x2  x3  x4   x5    x6     x7  x8  label\n",
      "0     1  143  86  30  330  30.1  0.892  23      0\n",
      "1     1  119  44  47   63  35.5  0.280  25      0\n",
      "2     6  108  44  20  130  24.0  0.813  35      0\n",
      "3     2  118  80   0    0  42.9  0.693  21      1\n",
      "4    10  133  68   0    0  27.0  0.245  36      0\n",
      "..   ..  ...  ..  ..  ...   ...    ...  ..    ...\n",
      "189  10  101  76  48  180  32.9  0.171  63      0\n",
      "190   2  122  70  27    0  36.8  0.340  27      0\n",
      "191   5  121  72  23  112  26.2  0.245  30      0\n",
      "192   1  126  60   0    0  30.1  0.349  47      1\n",
      "193   1   93  70  31    0  30.4  0.315  23      0\n",
      "\n",
      "[194 rows x 9 columns]\n",
      "Index(['tested_negative', 'tested_positive'], dtype='object')\n",
      "[1. 0. 1. 0. 1. 0. 1. 0. 1. 1.]\n",
      "[0. 0. 0. 1. 0. 1. 1. 0. 0. 0.]\n"
     ]
    }
   ],
   "source": [
    "train_data = pd.read_csv(\"./diabetes_train.data\",\n",
    "                         skiprows=10,\n",
    "                         names=[\"x1\",\"x2\",\"x3\",\"x4\",\"x5\",\"x6\",\"x7\",\"x8\",\"label\"])\n",
    "test_data = pd.read_csv(\"./diabetes_test.data\",\n",
    "                         names=[\"x1\",\"x2\",\"x3\",\"x4\",\"x5\",\"x6\",\"x7\",\"x8\",\"label\"])\n",
    "\n",
    "train_data['label'], classes = pd.factorize(train_data.label,sort=True)\n",
    "test_data['label'], classes = pd.factorize(test_data.label,sort=True)\n",
    "print(train_data)\n",
    "print(test_data)\n",
    "\n",
    "train_data = np.asarray(train_data)\n",
    "test_data = np.asarray(test_data)\n",
    "\n",
    "print(classes)\n",
    "\n",
    "train_x = train_data[:,:-1]\n",
    "train_y = train_data[:,-1]\n",
    "print(train_y[:10])\n",
    "\n",
    "test_x = test_data[:,:-1]\n",
    "test_y = test_data[:,-1]\n",
    "print(test_y[:10])"
   ]
  },
  {
   "cell_type": "code",
   "execution_count": 33,
   "metadata": {},
   "outputs": [
    {
     "name": "stdout",
     "output_type": "stream",
     "text": [
      "acc=0.7525773195876289\n"
     ]
    }
   ],
   "source": [
    "model = svm.SVC(kernel='poly')\n",
    "model.fit(train_x, train_y)\n",
    "y_pred = model.predict(test_x)\n",
    "print(f\"acc={(np.asarray(y_pred)==test_y).mean()}\")"
   ]
  }
 ],
 "metadata": {
  "kernelspec": {
   "display_name": "Torch",
   "language": "python",
   "name": "python3"
  },
  "language_info": {
   "codemirror_mode": {
    "name": "ipython",
    "version": 3
   },
   "file_extension": ".py",
   "mimetype": "text/x-python",
   "name": "python",
   "nbconvert_exporter": "python",
   "pygments_lexer": "ipython3",
   "version": "3.10.9"
  },
  "orig_nbformat": 4
 },
 "nbformat": 4,
 "nbformat_minor": 2
}
