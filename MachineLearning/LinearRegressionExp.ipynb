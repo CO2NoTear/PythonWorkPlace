{
 "cells": [
  {
   "cell_type": "code",
   "execution_count": 100,
   "metadata": {},
   "outputs": [],
   "source": [
    "import numpy as np\n",
    "import matplotlib.pyplot as plt   "
   ]
  },
  {
   "cell_type": "code",
   "execution_count": 101,
   "metadata": {},
   "outputs": [],
   "source": [
    "# 水泥问题\n",
    "# f(x) = 0.56 + 2.19*x1 + 1.15*x2 + 0.75*x3 + 0.48*x4\n",
    "\n",
    "# shape = 13\n",
    "# x_dim = 4\n",
    "# x = np.array([\n",
    "#     [7, 26, 6, 60],\n",
    "#     [1, 29, 15, 52],\n",
    "#     [11, 56, 8, 20],\n",
    "#     [11, 31, 8, 47],\n",
    "#     [7, 52, 6, 33],\n",
    "#     [11, 55, 9, 22],\n",
    "#     [3, 71, 17, 6],\n",
    "#     [1, 31, 22, 44],\n",
    "#     [2, 54, 18, 22],\n",
    "#     [21, 47, 4, 26],\n",
    "#     [1, 40, 23, 34],\n",
    "#     [11, 66, 9, 12],\n",
    "#     [10, 68, 8, 12]\n",
    "# ])\n",
    "# x = np.expand_dims(x, axis=2)\n",
    "# y = np.array([\n",
    "#     78.5,\n",
    "#     74.3,\n",
    "#     104.3,\n",
    "#     87.6,\n",
    "#     95.9,\n",
    "#     109.2,\n",
    "#     102.7,\n",
    "#     72.5,\n",
    "#     93.1,\n",
    "#     115.9,\n",
    "#     83.8,\n",
    "#     113.3,\n",
    "#     109.4\n",
    "# ])\n",
    "# w = np.random.rand(x_dim+1, 1)\n",
    "# print(x.shape)\n",
    "# print(x)\n",
    "# print(y.shape)\n"
   ]
  },
  {
   "cell_type": "code",
   "execution_count": 102,
   "metadata": {},
   "outputs": [
    {
     "name": "stdout",
     "output_type": "stream",
     "text": [
      "(18, 2, 1)\n",
      "[[[  4. ]\n",
      "  [171.2]]\n",
      "\n",
      " [[  4. ]\n",
      "  [174.2]]\n",
      "\n",
      " [[  5. ]\n",
      "  [204.3]]\n",
      "\n",
      " [[  4. ]\n",
      "  [218.7]]\n",
      "\n",
      " [[  4. ]\n",
      "  [219.4]]\n",
      "\n",
      " [[  7. ]\n",
      "  [240.4]]\n",
      "\n",
      " [[  4. ]\n",
      "  [273.5]]\n",
      "\n",
      " [[  5. ]\n",
      "  [294.8]]\n",
      "\n",
      " [[ 10. ]\n",
      "  [330.2]]\n",
      "\n",
      " [[  7. ]\n",
      "  [333.1]]\n",
      "\n",
      " [[  5. ]\n",
      "  [366. ]]\n",
      "\n",
      " [[  6. ]\n",
      "  [350.9]]\n",
      "\n",
      " [[  4. ]\n",
      "  [357.9]]\n",
      "\n",
      " [[  5. ]\n",
      "  [359. ]]\n",
      "\n",
      " [[  7. ]\n",
      "  [371.9]]\n",
      "\n",
      " [[  9. ]\n",
      "  [435.3]]\n",
      "\n",
      " [[  8. ]\n",
      "  [523.9]]\n",
      "\n",
      " [[ 10. ]\n",
      "  [604.1]]]\n",
      "(18,)\n"
     ]
    }
   ],
   "source": [
    "# 读物问题\n",
    "# f(x) = 6.4 + 74.77*x1 + 0.91*x2\n",
    "\n",
    "shape = 18\n",
    "x_dim = 2\n",
    "learning_rate = 1e-6\n",
    "x = np.array([\n",
    "   [4, 171.2],\n",
    "   [4, 174.2],\n",
    "   [5,204.3],\n",
    "   [4,218.7],\n",
    "   [4,219.4],\n",
    "   [7,240.4],\n",
    "   [4,273.5],\n",
    "   [5,294.8],\n",
    "   [10,330.2],\n",
    "   [7,333.1],\n",
    "   [5,366.0],\n",
    "   [6,350.9],\n",
    "   [4,357.9],\n",
    "   [5,359.0],\n",
    "   [7,371.9],\n",
    "   [9,435.3],\n",
    "   [8,523.9],\n",
    "   [10,604.1]\n",
    "])\n",
    "x = np.expand_dims(x, axis=2)\n",
    "y = np.array([\n",
    "    450.5,\n",
    "    507.7,\n",
    "    613.9,\n",
    "    563.4,\n",
    "    501.5,\n",
    "    781.5,\n",
    "    541.8,\n",
    "    611.1,\n",
    "    1222.1,\n",
    "    793.2,\n",
    "    660.8,\n",
    "    792.7,\n",
    "    580.8,\n",
    "    612.7,\n",
    "    890.8,\n",
    "    1121.0,\n",
    "    1094.2,\n",
    "    1253.0\n",
    "])\n",
    "w = np.random.rand(x_dim+1, 1)\n",
    "print(x.shape)\n",
    "print(x)\n",
    "print(y.shape)\n"
   ]
  },
  {
   "cell_type": "code",
   "execution_count": 103,
   "metadata": {},
   "outputs": [],
   "source": [
    "class LinearRegression:\n",
    "    def __init__(self,x,y,w):\n",
    "        x = np.concatenate((np.ones((x.shape[0], 1, 1)), x), axis=1)\n",
    "        print(x[0].shape)\n",
    "        print(w.shape)\n",
    "        self.input = x\n",
    "        self.real = y\n",
    "        self.weight = w\n",
    "    def predict(self):\n",
    "        self.pred = np.zeros(self.input.shape[0])\n",
    "        for i in range(self.input.shape[0]):\n",
    "            # self.predict[i] = x[i].T*w\n",
    "            # print((x[i].T.dot(w)).shape)\n",
    "            self.pred[i] = np.expand_dims(self.input[i].T.dot(w), axis=0)\n",
    "    def loss_func(self):\n",
    "        loss_arr = (self.pred-self.real)**2\n",
    "        return np.sum(loss_arr/self.input.shape[0])\n",
    "    def gradient_decent(self, lr):\n",
    "        accumulated_weight = np.zeros(w.shape)\n",
    "        for i in range(self.input.shape[0]):\n",
    "            accumulated_weight += (self.pred[i] - self.real[i])*self.input[i]\n",
    "        accumulated_weight /= self.input.shape[0]\n",
    "        self.weight -= lr*accumulated_weight\n",
    "        self.predict()\n"
   ]
  },
  {
   "cell_type": "code",
   "execution_count": 104,
   "metadata": {},
   "outputs": [
    {
     "name": "stdout",
     "output_type": "stream",
     "text": [
      "(3, 1)\n",
      "(3, 1)\n",
      "[[0.64445737]\n",
      " [0.21247797]\n",
      " [0.13351118]]\n",
      "[24.35148246 24.75201599 28.98318033 30.69326329 30.78672111 34.22788969\n",
      " 38.0096757  41.0659417  46.85462714 46.60437565 50.57193738 48.7683966\n",
      " 49.2780189  49.63735916 51.78460925 60.6741737  72.29078587 83.42333807]\n",
      "561327.5368470473\n",
      "(18,)\n",
      "443072.39622724487\n",
      "[[0.64516737]\n",
      " [0.21722201]\n",
      " [0.38411481]]\n"
     ]
    }
   ],
   "source": [
    "lg = LinearRegression(x,y,w)\n",
    "print(lg.weight)\n",
    "lg.predict()\n",
    "print(lg.pred)\n",
    "print(lg.loss_func())\n",
    "last_loss = lg.loss_func()\n",
    "# lg.real.shape\n",
    "print(lg.real.shape)\n",
    "lg.gradient_decent(learning_rate)\n",
    "print(lg.loss_func())\n",
    "print(lg.weight)"
   ]
  },
  {
   "cell_type": "code",
   "execution_count": null,
   "metadata": {},
   "outputs": [],
   "source": [
    "# for epoch in range(100000):\n",
    "while last_loss - lg.loss_func() > 0.01:\n",
    "    last_loss = lg.loss_func()\n",
    "    lg.gradient_decent(learning_rate)\n",
    "    epoch += 1\n",
    "    # print(\"epoch {}, loss:{}\".format(epoch+1, lg.loss_func()))"
   ]
  },
  {
   "cell_type": "code",
   "execution_count": 107,
   "metadata": {},
   "outputs": [
    {
     "name": "stdout",
     "output_type": "stream",
     "text": [
      "[[ 6.43166866]\n",
      " [74.76909407]\n",
      " [ 0.91125296]]\n"
     ]
    }
   ],
   "source": [
    "print(lg.weight)"
   ]
  }
 ],
 "metadata": {
  "kernelspec": {
   "display_name": "base",
   "language": "python",
   "name": "python3"
  },
  "language_info": {
   "codemirror_mode": {
    "name": "ipython",
    "version": 3
   },
   "file_extension": ".py",
   "mimetype": "text/x-python",
   "name": "python",
   "nbconvert_exporter": "python",
   "pygments_lexer": "ipython3",
   "version": "3.9.12"
  },
  "orig_nbformat": 4,
  "vscode": {
   "interpreter": {
    "hash": "88279d2366fe020547cde40dd65aa0e3aa662a6ec1f3ca12d88834876c85e1a6"
   }
  }
 },
 "nbformat": 4,
 "nbformat_minor": 2
}
