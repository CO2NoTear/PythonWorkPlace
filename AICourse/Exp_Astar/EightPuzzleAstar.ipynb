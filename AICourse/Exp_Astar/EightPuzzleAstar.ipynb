{
 "cells": [
  {
   "cell_type": "code",
   "execution_count": 16,
   "metadata": {},
   "outputs": [],
   "source": [
    "import numpy as np\n",
    "from queue import PriorityQueue\n",
    "from copy import deepcopy"
   ]
  },
  {
   "attachments": {},
   "cell_type": "markdown",
   "metadata": {},
   "source": [
    "### 1. 数据结构选择\n",
    "#### 数据结构要求\n",
    "- 3x3迷宫\n",
    "- 状态：3x3=9维，1,...,9\n",
    "- 9表示空腔\n",
    "- cost: 每走一步cost 1\n",
    "- 走下一步：9的上下左右某一格与它做交换\n",
    "- 上下左右：\n",
    "  - Up: -3\n",
    "  - Down: +3\n",
    "  - left: -1\n",
    "  - right +1\n",
    "#### Heuristic 设计\n",
    "- version 1.  \n",
    "  各数码当前位置与正确位置曼哈顿距离 加和\n",
    "  - 一定小于等于实际步数\n",
    "  - 比较粗糙"
   ]
  },
  {
   "cell_type": "code",
   "execution_count": 17,
   "metadata": {},
   "outputs": [],
   "source": [
    "# Up, Right, Down, Left\n",
    "directions = [\n",
    "    -3 , 1, +3, -1\n",
    "]\n",
    "\n",
    "def leagel_movement(src, op):\n",
    "    # Up or Down\n",
    "    if src + op < 0 or src + op > 8:\n",
    "        return False\n",
    "    # Left or Right\n",
    "    if op%3:\n",
    "        if src%3 + op < 0 or src%3 +op > 2:\n",
    "            return False\n",
    "    return True\n",
    "\n",
    "def check_result(state):\n",
    "    return np.all(state == np.arange(9)+1)\n",
    "\n",
    "# 计算给定状态的heuristic值：Version1:曼哈顿距离\n",
    "def calc_heuristic(state):\n",
    "    sum = 0\n",
    "    # state can be \n",
    "    # 3, 2, 4\n",
    "    # 1, 5,(7) <- i = 5, state[i] = 7\n",
    "    #[6],x, 8                |---means----> wanna go to i+1 = 7\n",
    "    #          got source = i = 5\n",
    "    #              dest = state[i]-1 = 6\n",
    "    #              L1dist = abs(source//3 - dest//3) +\n",
    "    #                       abs(souce%3 - dest%3)\n",
    "    for i in range(9):\n",
    "        # 从第i个位置到第state[i]\n",
    "        source = i\n",
    "        dest = state[i]-1\n",
    "        sum += abs(source//3 - dest//3) +\\\n",
    "               abs(source %3 - dest %3)\n",
    "    return sum\n",
    "# 生成初始迷宫\n",
    "def generate_initial_puzzle(random_steps):\n",
    "    init_node = node(np.arange(1,10), 8, 0, 0)\n",
    "    for _ in range(random_steps):\n",
    "        op = directions[np.random.randint(4)]\n",
    "        while not leagel_movement(init_node.hole, op):\n",
    "            op = directions[np.random.randint(4)]\n",
    "        init_node.state[init_node.hole], init_node.state[init_node.hole+op] =\\\n",
    "        init_node.state[init_node.hole+op], init_node.state[init_node.hole]\n",
    "        init_node.hole += op\n",
    "    return init_node\n",
    "\n",
    "class node:\n",
    "    def __init__(self, state, hole, cost, heuristic, route:list=[]) -> None:\n",
    "        self.state:np.ndarray = state\n",
    "        self.cost = cost\n",
    "        self.heuristic = heuristic\n",
    "        # # route can be useless,\n",
    "        # for we can print whole state at every entry\n",
    "        self.route = route\n",
    "        \n",
    "        # hole is where the num \"9\" is\n",
    "        # a fast way to locate the \"9\" and move it\n",
    "        self.hole = hole\n",
    "    \n",
    "    def __lt__(self, other):\n",
    "        return self.cost+self.heuristic < other.cost+other.heuristic\n",
    "\n",
    "    def get_state_str(self):\n",
    "        return str(self.state.reshape(3,3)).replace('9',' ')"
   ]
  },
  {
   "cell_type": "code",
   "execution_count": 18,
   "metadata": {},
   "outputs": [
    {
     "name": "stdout",
     "output_type": "stream",
     "text": [
      "[8 1 2 9 7 3 4 6 5] \n",
      " 3\n"
     ]
    }
   ],
   "source": [
    "SHUFFLE_STEP = 100\n",
    "# initial_puzzle = generate_initial_puzzle(SHUFFLE_STEP)\n",
    "initial_puzzle = node(np.array([9,4,8,5,1,3,7,6,2]), 0, 0, 0)\n",
    "initial_puzzle.heuristic = calc_heuristic(initial_puzzle.state)\n",
    "print(initial_puzzle.state,'\\n', initial_puzzle.hole)"
   ]
  },
  {
   "cell_type": "code",
   "execution_count": 19,
   "metadata": {},
   "outputs": [],
   "source": [
    "queue = PriorityQueue()\n",
    "MAXCOST = np.inf\n",
    "Astar_File = open(\"./output.txt\",\"w\")\n",
    "DEPTH_LIMIT = SHUFFLE_STEP\n",
    "\n",
    "def Astar(initial_puzzle):\n",
    "    min_cost = MAXCOST\n",
    "    queue.put(initial_puzzle)\n",
    "    while not queue.empty():\n",
    "        # 取出队头\n",
    "        try:\n",
    "            current_node:node = queue.get()\n",
    "            # Astar_File.write(\"{: <30} Current cost: {}\\n\".format(current_node.get_state_str(), current_node.cost))\n",
    "        except IndexError:\n",
    "            print(\"[ERROR] 队空了！\")\n",
    "            return -1\n",
    "        \n",
    "        if current_node.cost > DEPTH_LIMIT: #or (current_node.cost!=0 and str(current_node.state.reshape(3,3)) in current_node.route):\n",
    "            continue\n",
    "\n",
    "        # 正解输出\n",
    "        if check_result(current_node.state):\n",
    "            min_cost = min(min_cost,current_node.cost)\n",
    "\n",
    "            Astar_File.write(\"Initial puzzle\\n\")\n",
    "            Astar_File.write(initial_puzzle.get_state_str())\n",
    "            Astar_File.write('\\n')\n",
    "            for i in range(len(current_node.route)):\n",
    "                Astar_File.write(f\"step {i+1}:\\n\")\n",
    "                Astar_File.write(current_node.route[i])\n",
    "                Astar_File.write('\\n')\n",
    "            Astar_File.close()\n",
    "            return min_cost\n",
    "\n",
    "        # Astar迭代\n",
    "        for dire in directions:\n",
    "            if not leagel_movement(current_node.hole, dire):\n",
    "                continue\n",
    "            next_node = deepcopy(current_node)\n",
    "            next_node.state[next_node.hole], next_node.state[next_node.hole+dire] =\\\n",
    "            next_node.state[next_node.hole+dire], next_node.state[next_node.hole] \n",
    "            next_node.route.append(next_node.get_state_str())\n",
    "            next_node.hole += dire\n",
    "            next_node.cost += 1\n",
    "            next_node.heuristic = calc_heuristic(next_node.state)\n",
    "            queue.put(next_node)\n",
    "        del current_node\n",
    "    return min_cost"
   ]
  },
  {
   "cell_type": "code",
   "execution_count": 20,
   "metadata": {},
   "outputs": [
    {
     "name": "stdout",
     "output_type": "stream",
     "text": [
      "13\n"
     ]
    }
   ],
   "source": [
    "print(Astar(initial_puzzle))"
   ]
  }
 ],
 "metadata": {
  "kernelspec": {
   "display_name": "base",
   "language": "python",
   "name": "python3"
  },
  "language_info": {
   "codemirror_mode": {
    "name": "ipython",
    "version": 3
   },
   "file_extension": ".py",
   "mimetype": "text/x-python",
   "name": "python",
   "nbconvert_exporter": "python",
   "pygments_lexer": "ipython3",
   "version": "3.9.12"
  },
  "orig_nbformat": 4
 },
 "nbformat": 4,
 "nbformat_minor": 2
}
