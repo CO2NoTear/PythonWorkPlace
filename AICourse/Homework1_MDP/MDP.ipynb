{
 "cells": [
  {
   "cell_type": "code",
   "execution_count": 7,
   "metadata": {},
   "outputs": [],
   "source": [
    "import numpy as np"
   ]
  },
  {
   "cell_type": "code",
   "execution_count": 8,
   "metadata": {},
   "outputs": [],
   "source": [
    "class BaseTable:\n",
    "    constants = {\n",
    "        \"diamond\" : 1,\n",
    "        \"fire\" : -1,\n",
    "        \"wall\" : np.nan\n",
    "    }\n",
    "    # up, right, down, left\n",
    "    # 0,  1,     2,    3\n",
    "    directions = [\n",
    "        (-1,0),\n",
    "        (0,1),\n",
    "        (1,0),\n",
    "        (0,-1)\n",
    "    ]\n",
    "    action_dire_ratio = [\n",
    "        0.1,\n",
    "        0.8,\n",
    "        0.1\n",
    "    ]\n",
    "    \n",
    "    def __init__(self, shape, gamma, alive) -> None:\n",
    "        self.table = np.zeros(shape)\n",
    "        self.qtable = np.zeros([shape[0], shape[1], 4])\n",
    "        self.vtable = np.zeros(shape)\n",
    "        self.gamma = gamma\n",
    "        self.alive = alive\n",
    "\n",
    "    def set_table_val(self, dot:tuple, val:str):\n",
    "        self.table[dot] = self.constants[val]\n",
    "\n",
    "    def set_start_dot(self, dot):\n",
    "        self.start_dot = dot\n",
    "    \n",
    "    def in_boundary(self, dot):\n",
    "        if 0 <= dot[0] < self.table.shape[0] and 0 <= dot[1] < self.table.shape[1]:\n",
    "            return True\n",
    "        else:\n",
    "            return False\n",
    "    \n",
    "    def iterate(self, step):\n",
    "        for _ in range(step):\n",
    "            self.__single_itreate()\n",
    "            \n",
    "    def __single_itreate(self):\n",
    "        total_nodes = self.table.shape[0]*self.table.shape[1]\n",
    "        new_qtable = np.zeros(self.qtable.shape)\n",
    "        for j in range(total_nodes):\n",
    "            dot = (j//self.table.shape[1], j%self.table.shape[1])\n",
    "            # if is wall, continue\n",
    "            if not self.in_boundary(dot) or np.isnan(self.table[dot]):\n",
    "                continue\n",
    "            new_qtable[dot] = self.__calc_q_nodewise(dot)\n",
    "        del self.qtable\n",
    "        self.qtable = new_qtable\n",
    "        for j in range(total_nodes):\n",
    "            dot = (j//self.table.shape[1], j%self.table.shape[1])\n",
    "            self.vtable[dot] = np.max(new_qtable[dot])\n",
    "    \n",
    "    def __calc_q_nodewise(self, dot:tuple):\n",
    "        new_qvalue = []\n",
    "        for qdire in range(4):\n",
    "            sum = 0\n",
    "            for action_dire in range(3):\n",
    "                next_dot = tuple(np.array(dot) + self.directions[(qdire+action_dire-1)%4])\n",
    "                # hit a wall\n",
    "                if not self.in_boundary(next_dot) or np.isnan(self.table[next_dot]):\n",
    "                    next_dot = dot\n",
    "                sum += self.action_dire_ratio[action_dire] * (\n",
    "                    self.vtable[next_dot] * self.gamma +\\\n",
    "                    self.alive + self.table[dot]\n",
    "                )\n",
    "            new_qvalue.append(sum)\n",
    "        return np.array(new_qvalue)\n",
    "    \n",
    "    def print_table(self):\n",
    "        with np.printoptions(precision=2):\n",
    "            print(\"table:\")\n",
    "            print(self.table.shape)\n",
    "            print(self.table)\n",
    "            print(\"qtable:\")\n",
    "            fulltable = np.zeros((self.table.shape[0]*3, self.table.shape[1]*3))\n",
    "            for i in range(self.table.shape[0]*self.table.shape[1]):\n",
    "                dot_center = (i//self.table.shape[1], i%self.table.shape[1])\n",
    "                dot_center_np = np.array((dot_center[0]*3+1, dot_center[1]*3+1))\n",
    "                for dire in range(4):\n",
    "                    fulltable[tuple(dot_center_np + self.directions[dire])] = self.qtable[dot_center][dire]\n",
    "            print(fulltable)\n",
    "            print(\"vtable:\")\n",
    "            print(self.vtable.shape)\n",
    "            print(self.vtable)"
   ]
  },
  {
   "cell_type": "code",
   "execution_count": 9,
   "metadata": {},
   "outputs": [
    {
     "ename": "TypeError",
     "evalue": "write() argument must be str, not tuple",
     "output_type": "error",
     "traceback": [
      "\u001b[1;31m---------------------------------------------------------------------------\u001b[0m",
      "\u001b[1;31mTypeError\u001b[0m                                 Traceback (most recent call last)",
      "\u001b[1;32md:\\Code\\PythonWorkPlace\\AICourse\\Homework1_MDP\\MDP.ipynb 单元格 3\u001b[0m in \u001b[0;36m<cell line: 8>\u001b[1;34m()\u001b[0m\n\u001b[0;32m      <a href='vscode-notebook-cell:/d%3A/Code/PythonWorkPlace/AICourse/Homework1_MDP/MDP.ipynb#W2sZmlsZQ%3D%3D?line=4'>5</a>\u001b[0m MDP\u001b[39m.\u001b[39mset_start_dot((\u001b[39m2\u001b[39m,\u001b[39m0\u001b[39m))\n\u001b[0;32m      <a href='vscode-notebook-cell:/d%3A/Code/PythonWorkPlace/AICourse/Homework1_MDP/MDP.ipynb#W2sZmlsZQ%3D%3D?line=6'>7</a>\u001b[0m MDP\u001b[39m.\u001b[39miterate(\u001b[39m1\u001b[39m)\n\u001b[1;32m----> <a href='vscode-notebook-cell:/d%3A/Code/PythonWorkPlace/AICourse/Homework1_MDP/MDP.ipynb#W2sZmlsZQ%3D%3D?line=7'>8</a>\u001b[0m MDP\u001b[39m.\u001b[39;49mprint_table()\n\u001b[0;32m      <a href='vscode-notebook-cell:/d%3A/Code/PythonWorkPlace/AICourse/Homework1_MDP/MDP.ipynb#W2sZmlsZQ%3D%3D?line=8'>9</a>\u001b[0m MDP\u001b[39m.\u001b[39miterate(\u001b[39m2\u001b[39m)\n\u001b[0;32m     <a href='vscode-notebook-cell:/d%3A/Code/PythonWorkPlace/AICourse/Homework1_MDP/MDP.ipynb#W2sZmlsZQ%3D%3D?line=9'>10</a>\u001b[0m MDP\u001b[39m.\u001b[39mprint_table()\n",
      "\u001b[1;32md:\\Code\\PythonWorkPlace\\AICourse\\Homework1_MDP\\MDP.ipynb 单元格 3\u001b[0m in \u001b[0;36mBaseTable.print_table\u001b[1;34m(self)\u001b[0m\n\u001b[0;32m     <a href='vscode-notebook-cell:/d%3A/Code/PythonWorkPlace/AICourse/Homework1_MDP/MDP.ipynb#W2sZmlsZQ%3D%3D?line=84'>85</a>\u001b[0m file\u001b[39m.\u001b[39mwrite(\u001b[39mstr\u001b[39m(fulltable))\n\u001b[0;32m     <a href='vscode-notebook-cell:/d%3A/Code/PythonWorkPlace/AICourse/Homework1_MDP/MDP.ipynb#W2sZmlsZQ%3D%3D?line=85'>86</a>\u001b[0m file\u001b[39m.\u001b[39mwrite(\u001b[39m\"\u001b[39m\u001b[39mvtable:\u001b[39m\u001b[39m\"\u001b[39m)\n\u001b[1;32m---> <a href='vscode-notebook-cell:/d%3A/Code/PythonWorkPlace/AICourse/Homework1_MDP/MDP.ipynb#W2sZmlsZQ%3D%3D?line=86'>87</a>\u001b[0m file\u001b[39m.\u001b[39;49mwrite(\u001b[39mself\u001b[39;49m\u001b[39m.\u001b[39;49mvtable\u001b[39m.\u001b[39;49mshape)\n\u001b[0;32m     <a href='vscode-notebook-cell:/d%3A/Code/PythonWorkPlace/AICourse/Homework1_MDP/MDP.ipynb#W2sZmlsZQ%3D%3D?line=87'>88</a>\u001b[0m file\u001b[39m.\u001b[39mwrite(\u001b[39mself\u001b[39m\u001b[39m.\u001b[39mvtable)\n",
      "\u001b[1;31mTypeError\u001b[0m: write() argument must be str, not tuple"
     ]
    }
   ],
   "source": [
    "MDP = BaseTable((3,4), 0.5, 0)\n",
    "MDP.set_table_val((0,3), 'diamond')\n",
    "MDP.set_table_val((1,3), 'fire')\n",
    "MDP.set_table_val((1,1), 'wall')\n",
    "MDP.set_start_dot((2,0))\n",
    "\n",
    "MDP.iterate(1)\n",
    "MDP.print_table()\n",
    "MDP.iterate(2)\n",
    "MDP.print_table()\n",
    "MDP.iterate(3)\n",
    "MDP.print_table()\n",
    "MDP.iterate(4)\n",
    "MDP.print_table()\n",
    "MDP.iterate(5)\n",
    "MDP.print_table()"
   ]
  }
 ],
 "metadata": {
  "kernelspec": {
   "display_name": "base",
   "language": "python",
   "name": "python3"
  },
  "language_info": {
   "codemirror_mode": {
    "name": "ipython",
    "version": 3
   },
   "file_extension": ".py",
   "mimetype": "text/x-python",
   "name": "python",
   "nbconvert_exporter": "python",
   "pygments_lexer": "ipython3",
   "version": "3.9.12"
  },
  "orig_nbformat": 4,
  "vscode": {
   "interpreter": {
    "hash": "88279d2366fe020547cde40dd65aa0e3aa662a6ec1f3ca12d88834876c85e1a6"
   }
  }
 },
 "nbformat": 4,
 "nbformat_minor": 2
}
