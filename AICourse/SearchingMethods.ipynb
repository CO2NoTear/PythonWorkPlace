{
 "cells": [
  {
   "cell_type": "code",
   "execution_count": 35,
   "id": "f912f3f1",
   "metadata": {},
   "outputs": [],
   "source": [
    "import numpy as np\n",
    "from collections import defaultdict, deque\n",
    "from queue import PriorityQueue"
   ]
  },
  {
   "cell_type": "code",
   "execution_count": 36,
   "id": "abb61a15",
   "metadata": {},
   "outputs": [],
   "source": [
    "nodes = 8\n",
    "edges = 11\n",
    "MaxDepth = nodes"
   ]
  },
  {
   "cell_type": "code",
   "execution_count": 37,
   "id": "bcbd9ca0",
   "metadata": {},
   "outputs": [],
   "source": [
    "class Graph:\n",
    "    def __init__(self, nodes, edges):\n",
    "        self.nodes = nodes\n",
    "        self.edges = edges\n",
    "        # self.graph = {}\n",
    "        self.graph = defaultdict(dict)\n",
    "        self.heuristic = defaultdict(int)\n",
    "    def set_heuristic(self, x, h):\n",
    "        self.heuristic[x] = h\n",
    "    def add_edge_dirless(self, x, y, w):\n",
    "        self.graph[x][y] = w\n",
    "        self.graph[y][x] = w\n",
    "    def visit_whole_graph(self):\n",
    "        for v, v_items in self.graph.items():\n",
    "            for u, w in v_items.items():\n",
    "                print(\"{} to {} costs {}\".format(v, u, w))\n",
    "            "
   ]
  },
  {
   "cell_type": "code",
   "execution_count": 38,
   "id": "ae4dc333",
   "metadata": {},
   "outputs": [],
   "source": [
    "G = Graph(nodes, edges)\n",
    "\n",
    "G.add_edge_dirless('A', 'B', 3)\n",
    "G.add_edge_dirless('A', 'H', 4)\n",
    "G.add_edge_dirless('C', 'B', 4)\n",
    "G.add_edge_dirless('H', 'B', 5)\n",
    "G.add_edge_dirless('C', 'G', 3)\n",
    "G.add_edge_dirless('C', 'D', 8)\n",
    "G.add_edge_dirless('G', 'H', 2)\n",
    "G.add_edge_dirless('G', 'D', 8)\n",
    "G.add_edge_dirless('G', 'F', 4)\n",
    "G.add_edge_dirless('D', 'E', 2)\n",
    "G.add_edge_dirless('D', 'F', 3)\n",
    "\n",
    "G.set_heuristic('A', 15)\n",
    "G.set_heuristic('B', 14)\n",
    "G.set_heuristic('C', 10)\n",
    "G.set_heuristic('D', 2)\n",
    "G.set_heuristic('E', 0)\n",
    "G.set_heuristic('F', 5)\n",
    "G.set_heuristic('G', 9)\n",
    "G.set_heuristic('H', 11)"
   ]
  },
  {
   "cell_type": "code",
   "execution_count": 39,
   "id": "b2fcb21d",
   "metadata": {},
   "outputs": [
    {
     "name": "stdout",
     "output_type": "stream",
     "text": [
      "A to B costs 3\n",
      "A to H costs 4\n",
      "B to A costs 3\n",
      "B to C costs 4\n",
      "B to H costs 5\n",
      "H to A costs 4\n",
      "H to B costs 5\n",
      "H to G costs 2\n",
      "C to B costs 4\n",
      "C to G costs 3\n",
      "C to D costs 8\n",
      "G to C costs 3\n",
      "G to H costs 2\n",
      "G to D costs 8\n",
      "G to F costs 4\n",
      "D to C costs 8\n",
      "D to G costs 8\n",
      "D to E costs 2\n",
      "D to F costs 3\n",
      "F to G costs 4\n",
      "F to D costs 3\n",
      "E to D costs 2\n"
     ]
    }
   ],
   "source": [
    "G.visit_whole_graph()\n",
    "# print(G.graph)"
   ]
  },
  {
   "cell_type": "code",
   "execution_count": 40,
   "id": "928f466c",
   "metadata": {},
   "outputs": [],
   "source": [
    "DFS_File = open('./DFS_Expansion.txt',\"w\")\n",
    "node_min_cost = defaultdict(lambda: 0x7fffffff)\n",
    "route = []\n",
    "MAXCOST = 0x7fffffff\n",
    "def DFS_for_val(G:Graph, source:str, dest:str, cost:int, depth:int) -> int:\n",
    "    \"\"\"深度优先搜索图\n",
    "\n",
    "    搜索树限制高度为节点数\n",
    "    \"\"\"\n",
    "    route.append(source)\n",
    "    DFS_File.write(\"{: <30} Current cost: {}\\n\".format(\"-\".join(route), cost))\n",
    "\n",
    "    node_min_cost[source] = min(node_min_cost[source], cost)\n",
    "\n",
    "    if depth > G.nodes:\n",
    "        route.pop()\n",
    "        return MAXCOST\n",
    "    \n",
    "    if source == dest:\n",
    "        route.pop()\n",
    "        return cost\n",
    "    \n",
    "    # init\n",
    "    min_cost = MAXCOST\n",
    "    for u, w in G.graph[source].items():\n",
    "        min_cost = min(min_cost, DFS_for_val(G, u, dest, cost+w, depth+1))\n",
    "\n",
    "    route.pop()\n",
    "    return min_cost\n",
    "\n",
    "shortest_route = []\n",
    "def DFS_for_route(G:Graph, source:str, dest:str):\n",
    "    if source == dest:\n",
    "        print(\"最短路径：\"+'-'.join(shortest_route))\n",
    "        return\n",
    "    for u, w in G.graph[source].items():\n",
    "        if u not in shortest_route and node_min_cost[source] + w == node_min_cost[u]:\n",
    "            shortest_route.append(u)\n",
    "            DFS_for_route(G, u, dest)\n",
    "            shortest_route.pop()"
   ]
  },
  {
   "cell_type": "code",
   "execution_count": 41,
   "id": "12713b91",
   "metadata": {},
   "outputs": [
    {
     "name": "stdout",
     "output_type": "stream",
     "text": [
      "15\n",
      "最短路径：A-H-G-F-D-E\n"
     ]
    }
   ],
   "source": [
    "print(DFS_for_val(G, 'A', 'E', 0, 0))\n",
    "shortest_route.append('A')\n",
    "DFS_for_route(G, 'A', 'E')\n",
    "DFS_File.close()"
   ]
  },
  {
   "cell_type": "code",
   "execution_count": 42,
   "id": "7131bfb1",
   "metadata": {},
   "outputs": [],
   "source": [
    "BFS_File = open(\"./BFS_Expansion.txt\",'w')\n",
    "class node:\n",
    "    def __init__(self, source:str, depth, cost:int, Astar_val, route:list):\n",
    "        self.depth = depth\n",
    "        self.source = source\n",
    "        self.cost = cost\n",
    "        self.Astar_val = Astar_val\n",
    "        route.append(source)\n",
    "        self.route = route.copy()\n",
    "    def __lt__(self, other):\n",
    "        return self.Astar_val < other.Astar_val\n",
    "queue = deque()\n",
    "\n",
    "def BFS(G:Graph, source:str, dest:str):\n",
    "    min_cost = MAXCOST\n",
    "    queue.append(node(source, 0, 0, 0, []))\n",
    "    while len(queue) != 0:\n",
    "        try:\n",
    "            source_node = queue.popleft()\n",
    "            BFS_File.write(\"{: <30} Current cost: {}\\n\".format(\"-\".join(source_node.route), source_node.cost))\n",
    "        except IndexError:\n",
    "            print(\"[ERROR] 队空了！\")\n",
    "            return\n",
    "        \n",
    "        if source_node.depth > G.nodes:\n",
    "            continue\n",
    "        if source_node.source == dest:\n",
    "            min_cost = min(min_cost,source_node.cost)\n",
    "            continue\n",
    "\n",
    "        for next_node, weight in G.graph[source_node.source].items():\n",
    "            queue.append(node(next_node, source_node.depth+1, source_node.cost +\n",
    "                         weight, source_node.cost+weight, source_node.route.copy()))\n",
    "    return min_cost\n"
   ]
  },
  {
   "cell_type": "code",
   "execution_count": 43,
   "id": "241f663e",
   "metadata": {},
   "outputs": [
    {
     "name": "stdout",
     "output_type": "stream",
     "text": [
      "15\n"
     ]
    }
   ],
   "source": [
    "BFS_min_cost = BFS(G, 'A', 'E')\n",
    "print(BFS_min_cost)\n",
    "BFS_File.close()"
   ]
  },
  {
   "cell_type": "code",
   "execution_count": 44,
   "id": "753e60d7",
   "metadata": {},
   "outputs": [],
   "source": [
    "queue = PriorityQueue()\n",
    "UCS_File = open(\"./UCS_Expansion.txt\",'w')\n",
    "\n",
    "def UCS(G:Graph, source:str, dest:str):\n",
    "    min_cost = MAXCOST\n",
    "    queue.put(node(source, 0, 0, 0, []))\n",
    "    while not queue.empty():\n",
    "        try:\n",
    "            source_node = queue.get()\n",
    "            UCS_File.write(\"{: <30} Current cost: {}\\n\".format(\"-\".join(source_node.route), source_node.cost))\n",
    "        except IndexError:\n",
    "            print(\"[ERROR] 队空了！\")\n",
    "            return\n",
    "        \n",
    "        if source_node.depth > G.nodes:\n",
    "            continue\n",
    "        if source_node.source == dest:\n",
    "            min_cost = min(min_cost,source_node.cost)\n",
    "            UCS_File.close()\n",
    "            return min_cost\n",
    "\n",
    "        for next_node, weight in G.graph[source_node.source].items():\n",
    "            queue.put(node(next_node, source_node.depth+1, source_node.cost +\n",
    "                         weight, source_node.cost+weight, source_node.route.copy()))\n",
    "    return min_cost"
   ]
  },
  {
   "cell_type": "code",
   "execution_count": 45,
   "id": "a0c07265",
   "metadata": {},
   "outputs": [
    {
     "name": "stdout",
     "output_type": "stream",
     "text": [
      "15\n"
     ]
    }
   ],
   "source": [
    "print(UCS(G, 'A', 'E'))"
   ]
  },
  {
   "cell_type": "code",
   "execution_count": 46,
   "id": "c20a88d3",
   "metadata": {},
   "outputs": [],
   "source": [
    "Greedy_File = open(\"./Greedy_Expansion.txt\", \"w\")\n",
    "def Greedy(G:Graph, source:str, dest:str, cost:int, path:list)->int:\n",
    "    min_heuristic_val = MAXCOST\n",
    "    min_heuristic_node = None\n",
    "    path.append(source)\n",
    "\n",
    "    if source == dest:\n",
    "        Greedy_File.write('-'.join(path)+'\\n')\n",
    "        return cost\n",
    "\n",
    "    for next_node, _weight in G.graph[source].items():\n",
    "        heuristic = G.heuristic[next_node]\n",
    "        if heuristic < min_heuristic_val:\n",
    "            min_heuristic_val = heuristic\n",
    "            min_heuristic_node = next_node\n",
    "    return Greedy(G, min_heuristic_node, dest, cost+G.graph[source][min_heuristic_node], path)"
   ]
  },
  {
   "cell_type": "code",
   "execution_count": 47,
   "id": "fcd61078",
   "metadata": {},
   "outputs": [
    {
     "name": "stdout",
     "output_type": "stream",
     "text": [
      "16\n"
     ]
    }
   ],
   "source": [
    "print(Greedy(G, 'A', 'E', 0, []))\n",
    "Greedy_File.close()"
   ]
  },
  {
   "cell_type": "code",
   "execution_count": 50,
   "id": "357296ec",
   "metadata": {},
   "outputs": [],
   "source": [
    "Astar_File = open(\"./Astar_Expansion.txt\",\"w\")\n",
    "queue = PriorityQueue()\n",
    "\n",
    "def Astar(G:Graph, source:str, dest:str):\n",
    "    min_cost = MAXCOST\n",
    "    queue.put(node(source, 0, 0, 0, []))\n",
    "    while not queue.empty():\n",
    "        try:\n",
    "            source_node = queue.get()\n",
    "            Astar_File.write(\"{: <30} Current cost: {}\\n\".format(\"-\".join(source_node.route), source_node.cost))\n",
    "        except IndexError:\n",
    "            print(\"[ERROR] 队空了！\")\n",
    "            return\n",
    "        \n",
    "        if source_node.depth > G.nodes:\n",
    "            continue\n",
    "        if source_node.source == dest:\n",
    "            min_cost = min(min_cost,source_node.cost)\n",
    "            Astar_File.close()\n",
    "            return min_cost\n",
    "\n",
    "        for next_node, weight in G.graph[source_node.source].items():\n",
    "            queue.put(node(next_node, source_node.depth+1, source_node.cost +\n",
    "                         weight, source_node.cost+weight+G.heuristic[next_node], source_node.route.copy()))\n",
    "    return min_cost"
   ]
  },
  {
   "cell_type": "code",
   "execution_count": 51,
   "id": "4f5ffe88",
   "metadata": {},
   "outputs": [
    {
     "name": "stdout",
     "output_type": "stream",
     "text": [
      "15\n"
     ]
    }
   ],
   "source": [
    "print(Astar(G, 'A', 'E'))\n",
    "Astar_File.close()"
   ]
  }
 ],
 "metadata": {
  "kernelspec": {
   "display_name": "Python 3 (ipykernel)",
   "language": "python",
   "name": "python3"
  },
  "language_info": {
   "codemirror_mode": {
    "name": "ipython",
    "version": 3
   },
   "file_extension": ".py",
   "mimetype": "text/x-python",
   "name": "python",
   "nbconvert_exporter": "python",
   "pygments_lexer": "ipython3",
   "version": "3.9.12"
  }
 },
 "nbformat": 4,
 "nbformat_minor": 5
}
