{
 "cells": [
  {
   "cell_type": "code",
   "execution_count": 26,
   "id": "f912f3f1",
   "metadata": {},
   "outputs": [],
   "source": [
    "import numpy as np"
   ]
  },
  {
   "cell_type": "code",
   "execution_count": 27,
   "id": "abb61a15",
   "metadata": {},
   "outputs": [],
   "source": [
    "nodes = 8\n",
    "edges = 11\n",
    "MaxDepth = nodes * 2"
   ]
  },
  {
   "cell_type": "code",
   "execution_count": 28,
   "id": "bcbd9ca0",
   "metadata": {},
   "outputs": [],
   "source": [
    "class Graph:\n",
    "    def __init__(self, nodes, edges):\n",
    "        self.nodes = nodes\n",
    "        self.edges = edges\n",
    "        self.graph = {}\n",
    "    def add_edge_dirless(self, x, y, w):\n",
    "        self.graph[x] = (y, w)\n",
    "        self.graph[y] = (x, w)\n",
    "    def visit_whole_graph(self):\n",
    "        for v, (u, w) in self.graph.items():\n",
    "            print(\"{} to {} costs {}\".format(v, u, w))\n",
    "            "
   ]
  },
  {
   "cell_type": "code",
   "execution_count": 29,
   "id": "ae4dc333",
   "metadata": {},
   "outputs": [],
   "source": [
    "G = Graph(nodes, edges)\n",
    "\n",
    "G.add_edge_dirless('A', 'B', 3)\n",
    "G.add_edge_dirless('A', 'H', 4)\n",
    "G.add_edge_dirless('C', 'B', 4)\n",
    "G.add_edge_dirless('H', 'B', 5)\n",
    "G.add_edge_dirless('C', 'G', 3)\n",
    "G.add_edge_dirless('C', 'D', 8)\n",
    "G.add_edge_dirless('G', 'H', 2)\n",
    "G.add_edge_dirless('G', 'D', 8)\n",
    "G.add_edge_dirless('G', 'F', 4)\n",
    "G.add_edge_dirless('D', 'E', 2)\n",
    "G.add_edge_dirless('D', 'F', 3)"
   ]
  },
  {
   "cell_type": "code",
   "execution_count": 30,
   "id": "b2fcb21d",
   "metadata": {},
   "outputs": [
    {
     "name": "stdout",
     "output_type": "stream",
     "text": [
      "A to H costs 4\n",
      "B to H costs 5\n",
      "H to G costs 2\n",
      "C to D costs 8\n",
      "G to F costs 4\n",
      "D to F costs 3\n",
      "F to D costs 3\n",
      "E to D costs 2\n"
     ]
    }
   ],
   "source": [
    "G.visit_whole_graph()"
   ]
  },
  {
   "cell_type": "code",
   "execution_count": null,
   "id": "6f2f78c0",
   "metadata": {},
   "outputs": [],
   "source": []
  },
  {
   "cell_type": "code",
   "execution_count": null,
   "id": "a27b61d9",
   "metadata": {},
   "outputs": [],
   "source": []
  }
 ],
 "metadata": {
  "kernelspec": {
   "display_name": "Python 3 (ipykernel)",
   "language": "python",
   "name": "python3"
  },
  "language_info": {
   "codemirror_mode": {
    "name": "ipython",
    "version": 3
   },
   "file_extension": ".py",
   "mimetype": "text/x-python",
   "name": "python",
   "nbconvert_exporter": "python",
   "pygments_lexer": "ipython3",
   "version": "3.9.13"
  }
 },
 "nbformat": 4,
 "nbformat_minor": 5
}
