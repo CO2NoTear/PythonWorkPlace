{
 "cells": [
  {
   "cell_type": "markdown",
   "metadata": {},
   "source": [
    "**Reverse List**"
   ]
  },
  {
   "cell_type": "code",
   "execution_count": 4,
   "metadata": {},
   "outputs": [
    {
     "name": "stdout",
     "output_type": "stream",
     "text": [
      "[1, 2, 3, 4, 5, 6]\n",
      "[6, 5, 4, 3, 2, 1]\n",
      "[6, 5, 4, 3, 2, 1]\n"
     ]
    }
   ],
   "source": [
    "Mylist = [1,2,3,4,5,6]\n",
    "print(Mylist)\n",
    "\n",
    "v1ReversedList = Mylist[::-1]\n",
    "print(v1ReversedList)\n",
    "\n",
    "v2ReversedList = Mylist[-1::-1]\n",
    "print(v2ReversedList)"
   ]
  },
  {
   "cell_type": "markdown",
   "metadata": {},
   "source": [
    "**Tuple Operation**"
   ]
  },
  {
   "cell_type": "code",
   "execution_count": 15,
   "metadata": {},
   "outputs": [
    {
     "name": "stdout",
     "output_type": "stream",
     "text": [
      "4\n",
      "(4, 10, 'Hello', 'World')\n",
      "(4, 2, 1)\n",
      "(1, 2, 4, 10, 'Hello', 'World', 'My name', 'is', 'Python.')\n",
      "('My name', 'is', 'Python.', 'My name', 'is', 'Python.')\n",
      "(1, 2, 4, 10, 'Hello', 'World', 2)\n"
     ]
    }
   ],
   "source": [
    "Tp1 = (1, 2, 4, 10, 'Hello', 'World')\n",
    "Tp2 = ('My name', 'is', 'Python.')\n",
    "\n",
    "print(Tp1[2])\n",
    "print(Tp1[2:])\n",
    "print(Tp1[2::-1])\n",
    "print(Tp1 + Tp2)\n",
    "print(Tp2 * 2)\n",
    "print(Tp1 + (2,))\n"
   ]
  },
  {
   "cell_type": "markdown",
   "metadata": {},
   "source": [
    "**Set Operation**"
   ]
  },
  {
   "cell_type": "code",
   "execution_count": 18,
   "metadata": {},
   "outputs": [
    {
     "name": "stdout",
     "output_type": "stream",
     "text": [
      "set()\n",
      "{1, 2, 3, 4, 'names', 'salaries', 'address'}\n",
      "{'d', 'f', 'j', 'c', 'a', 'g', 'm', 'l', 'n', 'e', 'i', 'k', 'h', 'b'}\n",
      "{1, 5, 11, 23, 123}\n",
      "{'4', '2', '7', '3', '5', '1', '6'}\n"
     ]
    }
   ],
   "source": [
    "NumberList = [1,5,23,5,1,23,123,23,11]\n",
    "\n",
    "EmptySet = set()\n",
    "NormalSet = {1,2,3,4,'names', 'salaries', 'address'}\n",
    "GenerationSet = set('abcdefghijklmn')\n",
    "NumberSet = set(NumberList)\n",
    "NumberInCharSet = set('12345672341235')\n",
    "\n",
    "#elements in a set is unique\n",
    "\n",
    "print(EmptySet)\n",
    "print(NormalSet)\n",
    "print(GenerationSet)\n",
    "print(NumberSet)\n",
    "print(NumberInCharSet)"
   ]
  },
  {
   "cell_type": "markdown",
   "metadata": {},
   "source": [
    "**Typewise Transformation**"
   ]
  },
  {
   "cell_type": "code",
   "execution_count": 26,
   "metadata": {},
   "outputs": [
    {
     "name": "stdout",
     "output_type": "stream",
     "text": [
      "1\n",
      "12\n",
      "106\n",
      "106\n",
      "82\n"
     ]
    }
   ],
   "source": [
    "# To int: int is absolutely based with 10\n",
    "print(int(input()))     #Readable buffer\n",
    "print(int(1234))        #Int itself. (can't assign any base, even 10.)\n",
    "print(int('12'))        #String\n",
    "print(int('0x6A',base=16)) #String assigned with a base   6A (based 16) = 106 (based 10)\n",
    "print(int('6A',base=16)) #String assigned with a base   6A (based 16) = 106 (based 10)\n",
    "print(int('6A',base=12)) #String assigned with a base   6A (based 12) = 82 (based 10)\n",
    "\n",
    "#To complex:\n"
   ]
  }
 ],
 "metadata": {
  "kernelspec": {
   "display_name": "Python 3.9.12 ('base')",
   "language": "python",
   "name": "python3"
  },
  "language_info": {
   "codemirror_mode": {
    "name": "ipython",
    "version": 3
   },
   "file_extension": ".py",
   "mimetype": "text/x-python",
   "name": "python",
   "nbconvert_exporter": "python",
   "pygments_lexer": "ipython3",
   "version": "3.9.12"
  },
  "orig_nbformat": 4,
  "vscode": {
   "interpreter": {
    "hash": "88279d2366fe020547cde40dd65aa0e3aa662a6ec1f3ca12d88834876c85e1a6"
   }
  }
 },
 "nbformat": 4,
 "nbformat_minor": 2
}
