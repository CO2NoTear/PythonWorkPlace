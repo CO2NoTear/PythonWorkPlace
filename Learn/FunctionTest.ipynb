{
 "cells": [
  {
   "cell_type": "code",
   "execution_count": 9,
   "metadata": {},
   "outputs": [
    {
     "ename": "TypeError",
     "evalue": "foo2() got multiple values for argument 'name'",
     "output_type": "error",
     "traceback": [
      "\u001b[1;31m---------------------------------------------------------------------------\u001b[0m",
      "\u001b[1;31mTypeError\u001b[0m                                 Traceback (most recent call last)",
      "\u001b[1;32md:\\Code\\PythonWorkPlace\\Learn\\FunctionTest.ipynb 单元格 2\u001b[0m in \u001b[0;36m<cell line: 3>\u001b[1;34m()\u001b[0m\n\u001b[0;32m      <a href='vscode-notebook-cell:/d%3A/Code/PythonWorkPlace/Learn/FunctionTest.ipynb#W3sZmlsZQ%3D%3D?line=0'>1</a>\u001b[0m \u001b[39mdef\u001b[39;00m \u001b[39mfoo2\u001b[39m(name, \u001b[39m*\u001b[39m\u001b[39m*\u001b[39mkwds):\n\u001b[0;32m      <a href='vscode-notebook-cell:/d%3A/Code/PythonWorkPlace/Learn/FunctionTest.ipynb#W3sZmlsZQ%3D%3D?line=1'>2</a>\u001b[0m     \u001b[39mreturn\u001b[39;00m \u001b[39m'\u001b[39m\u001b[39mname\u001b[39m\u001b[39m'\u001b[39m \u001b[39min\u001b[39;00m kwds\n\u001b[1;32m----> <a href='vscode-notebook-cell:/d%3A/Code/PythonWorkPlace/Learn/FunctionTest.ipynb#W3sZmlsZQ%3D%3D?line=2'>3</a>\u001b[0m foo2(\u001b[39m1\u001b[39;49m, name\u001b[39m=\u001b[39;49m\u001b[39m2\u001b[39;49m)\n",
      "\u001b[1;31mTypeError\u001b[0m: foo2() got multiple values for argument 'name'"
     ]
    }
   ],
   "source": [
    "def foo2(name, **kwds):\n",
    "    return 'name' in kwds\n",
    "foo2(1, name=2)"
   ]
  },
  {
   "cell_type": "code",
   "execution_count": 3,
   "metadata": {},
   "outputs": [],
   "source": [
    "def foo(name,/, **kwds):\n",
    "    return 'name' in kwds"
   ]
  },
  {
   "cell_type": "code",
   "execution_count": null,
   "metadata": {},
   "outputs": [],
   "source": [
    "foo(1, name=2)\n",
    "foo(1, **{'name':2})"
   ]
  },
  {
   "attachments": {},
   "cell_type": "markdown",
   "metadata": {},
   "source": [
    "**Lamboda Expression**"
   ]
  },
  {
   "cell_type": "code",
   "execution_count": 10,
   "metadata": {},
   "outputs": [
    {
     "name": "stdout",
     "output_type": "stream",
     "text": [
      "63\n",
      "64\n"
     ]
    }
   ],
   "source": [
    "def adder(n):\n",
    "    '''### lambda made adder to be a anonymous function\n",
    "\n",
    "    btw, let me test if *documentation* works fine\n",
    "    ATTENTION: the second line should not be typed\n",
    "    '''\n",
    "    return lambda x: x+n\n",
    "\n",
    "# It acctually created a function f\n",
    "f = adder(0x3f)\n",
    "\n",
    "print(f(0))\n",
    "print(f(1))"
   ]
  }
 ],
 "metadata": {
  "kernelspec": {
   "display_name": "base",
   "language": "python",
   "name": "python3"
  },
  "language_info": {
   "codemirror_mode": {
    "name": "ipython",
    "version": 3
   },
   "file_extension": ".py",
   "mimetype": "text/x-python",
   "name": "python",
   "nbconvert_exporter": "python",
   "pygments_lexer": "ipython3",
   "version": "3.9.12"
  },
  "orig_nbformat": 4
 },
 "nbformat": 4,
 "nbformat_minor": 2
}
