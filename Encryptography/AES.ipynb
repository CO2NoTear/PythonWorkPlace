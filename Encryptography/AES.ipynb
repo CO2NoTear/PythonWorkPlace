{
 "cells": [
  {
   "cell_type": "code",
   "execution_count": 1,
   "metadata": {},
   "outputs": [],
   "source": [
    "import numpy as np"
   ]
  },
  {
   "cell_type": "code",
   "execution_count": 5,
   "metadata": {},
   "outputs": [],
   "source": [
    "def multi(a, b):\n",
    "    if a == 1:\n",
    "        return b\n",
    "    elif a == 2:\n",
    "        if b // 0x80:\n",
    "            b <<= 1\n",
    "            b &= 0xff\n",
    "            b ^= 0b00011011\n",
    "            return b\n",
    "        else:\n",
    "            b <<= 1\n",
    "            return b\n",
    "    elif a == 3:\n",
    "        return multi(1, b) ^ multi(2, b)\n"
   ]
  },
  {
   "cell_type": "code",
   "execution_count": 11,
   "metadata": {},
   "outputs": [
    {
     "name": "stdout",
     "output_type": "stream",
     "text": [
      "0x8e\n",
      "0b10001110\n"
     ]
    }
   ],
   "source": [
    "print(hex(multi(3, 0x7a)))\n",
    "print(bin(multi(3, 0x7a)))"
   ]
  },
  {
   "cell_type": "code",
   "execution_count": 38,
   "metadata": {},
   "outputs": [
    {
     "name": "stdout",
     "output_type": "stream",
     "text": [
      "0X63\n",
      "0X63\n",
      "0X63\n",
      "0X63\n"
     ]
    }
   ],
   "source": [
    "factor = [2, 3, 1, 1]\n",
    "col1 = [0xe5, 0xe4, 0x59, 0xeb]\n",
    "col2 = [0x34, 0x41, 0x84, 0x47]\n",
    "col3 = [0x62, 0x8a, 0x59, 0x24]\n",
    "col4 = [0x01, 0xf1, 0xb5, 0xc4]\n",
    "col0 = [0x63, 0x63, 0x63, 0x63]\n",
    "sum = 0\n",
    "for i in range(4):\n",
    "    for j in range(4):\n",
    "        sum ^= multi(factor[(-i + j)%4], col0[j])\n",
    "    print(hex(sum).upper())\n",
    "    sum = 0"
   ]
  },
  {
   "cell_type": "code",
   "execution_count": 37,
   "metadata": {},
   "outputs": [
    {
     "name": "stdout",
     "output_type": "stream",
     "text": [
      "0XF4,0XE0,0X1F,0X51,\n",
      "0XCC,0X32,0X1,0X94,\n",
      "0X6B,0X83,0XF,0XF0,\n",
      "0X53,0XA6,0X4,0XD1,\n"
     ]
    }
   ],
   "source": [
    "a = np.array([\n",
    "    [0x54, 0x68, 0x3c, 0x7b],\n",
    "    [0x36, 0x66, 0xa2, 0xf8],\n",
    "    [0x95, 0xaf, 0x36, 0xd6],\n",
    "    [0x44, 0x17, 0x3d, 0xd4]\n",
    "])\n",
    "b = np.array([\n",
    "    [0xa0, 0x88, 0x23, 0x2a],\n",
    "    [0xfa, 0x54, 0xa3, 0x6c],\n",
    "    [0xfe, 0x2c, 0x39, 0x26],\n",
    "    [0x17, 0xb1, 0x39, 0x05]\n",
    "])\n",
    "\n",
    "c = a^b.tolist()\n",
    "for i in range(4):\n",
    "    for j in range(4):\n",
    "        print(hex(c[i][j]).upper(), end=',')\n",
    "    print('\\n', end='')\n",
    "# print(c)"
   ]
  },
  {
   "cell_type": "code",
   "execution_count": 39,
   "metadata": {},
   "outputs": [
    {
     "data": {
      "text/plain": [
       "17"
      ]
     },
     "execution_count": 39,
     "metadata": {},
     "output_type": "execute_result"
    }
   ],
   "source": [
    "sum = 0\n",
    "sum += bin(0x10000000 ^ 0xf4cc6b53).count('1')\n",
    "sum += bin(0x00000000 ^ 0xe03283a6).count('1')\n",
    "sum += bin(0x00000000 ^ 0x1f010f04).count('1')\n",
    "sum += bin(0x00000000 ^ 0x5194f0d1).count('1')\n",
    "print(sum)"
   ]
  }
 ],
 "metadata": {
  "kernelspec": {
   "display_name": "base",
   "language": "python",
   "name": "python3"
  },
  "language_info": {
   "codemirror_mode": {
    "name": "ipython",
    "version": 3
   },
   "file_extension": ".py",
   "mimetype": "text/x-python",
   "name": "python",
   "nbconvert_exporter": "python",
   "pygments_lexer": "ipython3",
   "version": "3.9.12"
  },
  "orig_nbformat": 4
 },
 "nbformat": 4,
 "nbformat_minor": 2
}
