{
 "cells": [
  {
   "cell_type": "code",
   "execution_count": 128,
   "metadata": {},
   "outputs": [],
   "source": [
    "import numpy as np"
   ]
  },
  {
   "cell_type": "code",
   "execution_count": 129,
   "metadata": {},
   "outputs": [],
   "source": [
    "def find_all_dots(w, p):\n",
    "    dots = []\n",
    "    for i in range(p):\n",
    "        square_y = (w[0] * i**3 + w[1] * i**2 + w[2] * i + w[3]) % p\n",
    "        for j in range(p):\n",
    "            if square_y == j**2 %p:\n",
    "                dots.append([i,j%p])\n",
    "    return np.asarray(dots)"
   ]
  },
  {
   "cell_type": "code",
   "execution_count": 130,
   "metadata": {},
   "outputs": [],
   "source": [
    "def ext_gcd(a, b): #扩展欧几里得算法    \n",
    "    if b == 0:          \n",
    "        return 1, 0, a     \n",
    "    else:         \n",
    "        x, y, gcd = ext_gcd(b, a % b) #递归直至余数等于0(需多递归一层用来判断)        \n",
    "        x, y = y, (x - (a // b) * y) #辗转相除法反向推导每层a、b的因子使得gcd(a,b)=ax+by成立         \n",
    "        return x, y, gcd\n",
    "def inverse(a,p):\n",
    "    a, _, __ =ext_gcd(a,p)\n",
    "    if a < 0:\n",
    "        a += p\n",
    "    return a%p\n",
    "\n",
    "def dot_add(dot_a, dot_b, w, p):\n",
    "    dot_a = tuple(dot_a)\n",
    "    dot_b = tuple(dot_b)\n",
    "    if dot_a == (0,0):\n",
    "        return dot_b\n",
    "    if dot_b == (0,0):\n",
    "        return dot_a\n",
    "    if dot_a[0] == dot_b[0] and (dot_a[1] + dot_b[1])%p == 0:\n",
    "        return (0,0)\n",
    "    Lambda = 0\n",
    "    if dot_a == dot_b:\n",
    "        Lambda = (3*(dot_a[0]**2) + w[2]) * inverse(2*dot_a[1], p)\n",
    "    else:\n",
    "        Lambda = (dot_b[1]-dot_a[1]) * inverse(dot_b[0] - dot_a[0], p)\n",
    "    Lambda %= p\n",
    "    # print(\"Lambda = \", Lambda)\n",
    "    x3 = Lambda**2 - dot_a[0] - dot_b[0]\n",
    "    # x3 = (p+x3)%p\n",
    "    x3 %= p\n",
    "    y3 = Lambda*(dot_a[0] - x3) - dot_a[1]\n",
    "    # y3 = (p+y3)%p\n",
    "    y3 %= p\n",
    "    return (x3,y3)\n",
    "\n",
    "def get_ord(dot, w, p):\n",
    "    q = np.array([0,0])\n",
    "    for i in range(1,2*p):\n",
    "        q = dot_add(dot, q, w, p)\n",
    "        print(f\"q = {q}\")\n",
    "        if tuple(q) == (0,0):\n",
    "            return i\n"
   ]
  },
  {
   "cell_type": "code",
   "execution_count": 131,
   "metadata": {},
   "outputs": [
    {
     "name": "stdout",
     "output_type": "stream",
     "text": [
      "[[0 3]\n",
      " [0 4]\n",
      " [2 3]\n",
      " [2 4]\n",
      " [4 1]\n",
      " [4 6]\n",
      " [5 3]\n",
      " [5 4]]\n"
     ]
    }
   ],
   "source": [
    "w = [\n",
    "    1,0,3,2\n",
    "]\n",
    "p = 7\n",
    "test_w = [\n",
    "    1,0,1,1\n",
    "]\n",
    "test_p = 23\n",
    "test_dots = find_all_dots(test_w, test_p)\n",
    "dots = find_all_dots(w, p)\n",
    "print(dots)\n"
   ]
  },
  {
   "cell_type": "code",
   "execution_count": 133,
   "metadata": {},
   "outputs": [
    {
     "name": "stdout",
     "output_type": "stream",
     "text": [
      "q = (0, 3)\n",
      "q = (2, 3)\n",
      "q = (5, 4)\n",
      "q = (0, 0)\n",
      "4\n"
     ]
    }
   ],
   "source": [
    "# print(dot_add((3,10), (3,13), test_w, test_p))\n",
    "print(get_ord((0,3), w, p))\n",
    "# print(get_ord((3,10), test_w, test_p))"
   ]
  }
 ],
 "metadata": {
  "kernelspec": {
   "display_name": "Torch",
   "language": "python",
   "name": "python3"
  },
  "language_info": {
   "codemirror_mode": {
    "name": "ipython",
    "version": 3
   },
   "file_extension": ".py",
   "mimetype": "text/x-python",
   "name": "python",
   "nbconvert_exporter": "python",
   "pygments_lexer": "ipython3",
   "version": "3.10.9"
  },
  "orig_nbformat": 4
 },
 "nbformat": 4,
 "nbformat_minor": 2
}
