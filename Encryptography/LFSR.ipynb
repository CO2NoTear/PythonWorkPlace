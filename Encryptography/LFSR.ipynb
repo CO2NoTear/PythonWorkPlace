{
 "cells": [
  {
   "cell_type": "code",
   "execution_count": 87,
   "metadata": {},
   "outputs": [],
   "source": [
    "import numpy as np"
   ]
  },
  {
   "cell_type": "code",
   "execution_count": 88,
   "metadata": {},
   "outputs": [],
   "source": [
    "class SFR:\n",
    "    def __init__(self, stage:int, init_seq, control) -> None:\n",
    "        self.stage = stage\n",
    "        self.container = np.asarray(init_seq)\n",
    "        if type(control) == list:\n",
    "            self.c_seq = control\n",
    "            self.func = self.func_specific\n",
    "        elif control == 1:\n",
    "            self.func = self.func_1\n",
    "        elif control == 2:\n",
    "            self.func = self.func_2\n",
    "    def func_specific(self):\n",
    "        res = 0\n",
    "        for i in range(self.stage):\n",
    "            res ^= self.container[i] * self.c_seq[i]\n",
    "        return res\n",
    "\n",
    "    def func_1(self):\n",
    "        return self.container[0] ^ self.container[3] ^ (self.container[1] & self.container[2])\n",
    "    def func_2(self):\n",
    "        return self.container[0] ^ self.container[2]\n",
    "\n",
    "    def step_n(self, step:int):\n",
    "        for _ in range(step):\n",
    "            output = self.func()\n",
    "            self.container = np.concatenate((output, self.container[:-1]), axis=None)\n",
    "    def output_tail(self):\n",
    "        return self.container[-1]\n",
    "    def output_head(self):\n",
    "        return self.container[0]\n",
    "    def print_status(self):\n",
    "        print(self.container)\n",
    "    def print_full_cycle(self):\n",
    "        output_seq = []\n",
    "        for _ in range(2**(self.stage+1)):\n",
    "            output_seq.append(self.output_tail())\n",
    "            self.step_n(1)\n",
    "        print(output_seq)\n",
    "    def get_full_cycle(self):\n",
    "        output_seq = []\n",
    "        for _ in range(2**(self.stage+1)):\n",
    "            output_seq.append(self.output_tail())\n",
    "            self.step_n(1)\n",
    "        return output_seq"
   ]
  },
  {
   "cell_type": "code",
   "execution_count": 89,
   "metadata": {},
   "outputs": [],
   "source": [
    "def dex_to_bin(x:int, *,width=5):\n",
    "    res = []\n",
    "    while x != 0:\n",
    "        res.append(x%2)\n",
    "        x//=2\n",
    "    while len(res) < width:\n",
    "        res.append(0)\n",
    "    return res[::-1]"
   ]
  },
  {
   "attachments": {},
   "cell_type": "markdown",
   "metadata": {},
   "source": [
    "### Question 1."
   ]
  },
  {
   "cell_type": "code",
   "execution_count": 90,
   "metadata": {},
   "outputs": [
    {
     "name": "stdout",
     "output_type": "stream",
     "text": [
      "[1, 0, 1, 1, 0, 1, 0, 1, 1, 0, 1, 0, 1, 1, 0, 1, 0, 1, 1, 0, 1, 0, 1, 1, 0, 1, 0, 1, 1, 0, 1, 0]\n"
     ]
    }
   ],
   "source": [
    "lsfr_1 = SFR(4, np.array([1,1,0,1]), 1)\n",
    "lsfr_1.print_full_cycle()\n"
   ]
  },
  {
   "attachments": {},
   "cell_type": "markdown",
   "metadata": {},
   "source": [
    "- 周期为5\n",
    "- 周期序列为 1,0,1,1,0"
   ]
  },
  {
   "attachments": {},
   "cell_type": "markdown",
   "metadata": {},
   "source": [
    "### Question 2."
   ]
  },
  {
   "cell_type": "code",
   "execution_count": 91,
   "metadata": {},
   "outputs": [
    {
     "name": "stdout",
     "output_type": "stream",
     "text": [
      "[1, 0, 0, 1, 1, 1, 0, 1, 0, 0, 1, 1, 1, 0, 1, 0]\n"
     ]
    }
   ],
   "source": [
    "lsfr_2 = SFR(3, np.array([0,0,1]), 2)\n",
    "lsfr_2.print_full_cycle()"
   ]
  },
  {
   "cell_type": "code",
   "execution_count": 92,
   "metadata": {},
   "outputs": [
    {
     "name": "stdout",
     "output_type": "stream",
     "text": [
      "[0, 1, 1, 1, 0, 1, 0, 0, 1, 1, 1, 0, 1, 0, 0, 1]\n"
     ]
    }
   ],
   "source": [
    "lsfr_2 = SFR(3, np.array([1,1,0]), 2)\n",
    "lsfr_2.print_full_cycle()"
   ]
  },
  {
   "attachments": {},
   "cell_type": "markdown",
   "metadata": {},
   "source": [
    "可以发现只是位移了两位"
   ]
  },
  {
   "attachments": {},
   "cell_type": "markdown",
   "metadata": {},
   "source": [
    "### Question 3."
   ]
  },
  {
   "cell_type": "code",
   "execution_count": 93,
   "metadata": {},
   "outputs": [
    {
     "name": "stdout",
     "output_type": "stream",
     "text": [
      "[0, 0, 1, 0, 1, 1, 1, 0, 0, 1, 0, 1, 1, 1, 0, 0, 1, 0, 1, 1, 1, 0, 0, 1, 0, 1, 1, 1]\n"
     ]
    }
   ],
   "source": [
    "cipher = 0b1011110000110001001010110001\n",
    "plain_text = 0b1001001001101101100100100110\n",
    "key = dex_to_bin(cipher ^ plain_text, width=28)\n",
    "print(key)"
   ]
  },
  {
   "attachments": {},
   "cell_type": "markdown",
   "metadata": {},
   "source": [
    "(1) 周期为7，可以认为阶数至少为3\n",
    "\n",
    "(2) 初始状态为100"
   ]
  },
  {
   "cell_type": "code",
   "execution_count": 94,
   "metadata": {},
   "outputs": [
    {
     "name": "stdout",
     "output_type": "stream",
     "text": [
      "[0, 0, 1, 0, 1, 1, 1, 0, 0, 1, 0, 1, 1, 1, 0, 0]\n"
     ]
    }
   ],
   "source": [
    "lsfr_3 = SFR(3, [1,0,0], [0,1,1])\n",
    "lsfr_3.print_full_cycle()"
   ]
  },
  {
   "attachments": {},
   "cell_type": "markdown",
   "metadata": {},
   "source": [
    "(3) 穷举了一下，经测试C = [0,1,1]是正确的反馈函数参数 \n",
    "\n",
    "即 $f(\\vec a) = a_{2} \\oplus a_{3}$"
   ]
  },
  {
   "attachments": {},
   "cell_type": "markdown",
   "metadata": {},
   "source": [
    "### Question 4."
   ]
  },
  {
   "cell_type": "code",
   "execution_count": 95,
   "metadata": {},
   "outputs": [
    {
     "name": "stdout",
     "output_type": "stream",
     "text": [
      "Z\n"
     ]
    }
   ],
   "source": [
    "alpha = [chr(i+65) for i in range(26)] + [str(j) for j in range(6)]\n",
    "print(alpha[0b11001])\n",
    "dictionary = {}\n",
    "for i in range(32):\n",
    "    dictionary[alpha[i]] = i"
   ]
  },
  {
   "attachments": {},
   "cell_type": "markdown",
   "metadata": {},
   "source": [
    "阶数$m = 6$，最大周期为$2^6-1 = 63$\n",
    "\n",
    "前三个字母的长度为15，WPI --> J5A"
   ]
  },
  {
   "cell_type": "code",
   "execution_count": 103,
   "metadata": {},
   "outputs": [
    {
     "name": "stdout",
     "output_type": "stream",
     "text": [
      "[0, 1, 0, 0, 1, 1, 1, 1, 1, 1, 0, 0, 0, 0, 0]\n",
      "[1, 0, 1, 1, 0, 0, 1, 1, 1, 1, 0, 1, 0, 0, 0]\n",
      "[1, 1, 1, 1, 1, 1, 0, 0, 0, 0, 0, 1, 0, 0, 0]\n"
     ]
    }
   ],
   "source": [
    "\n",
    "first_3_cipher = dex_to_bin(dictionary['J']) + dex_to_bin(dictionary['5']) + dex_to_bin(dictionary['A']) \n",
    "print(first_3_cipher)\n",
    "first_3_plain = dex_to_bin(dictionary['W']) + dex_to_bin(dictionary['P']) + dex_to_bin(dictionary['I']) \n",
    "print(first_3_plain)\n",
    "\n",
    "first_15_output =list( np.asarray(first_3_plain) ^ np.asarray(first_3_cipher))\n",
    "print(first_15_output)"
   ]
  },
  {
   "attachments": {},
   "cell_type": "markdown",
   "metadata": {},
   "source": [
    "初始状态为111111"
   ]
  },
  {
   "cell_type": "code",
   "execution_count": 120,
   "metadata": {},
   "outputs": [
    {
     "name": "stdout",
     "output_type": "stream",
     "text": [
      "3\n",
      "[0, 0, 0, 0, 1, 1]\n",
      "[1, 1, 1, 1, 1, 1, 0, 0, 0, 0, 0, 1, 0, 0, 0, 0, 1, 1, 0, 0, 0, 1, 0, 1, 0, 0, 1, 1, 1, 1, 0, 1, 0, 0, 0, 1, 1, 1, 0, 0, 1, 0, 0, 1, 0, 1, 1, 0, 1, 1, 1, 0, 1, 1, 0, 0, 1, 1, 0, 1, 0, 1, 0, 1, 1, 1, 1, 1, 1, 0, 0, 0, 0, 0, 1, 0, 0, 0, 0, 1, 1, 0, 0, 0, 1, 0, 1, 0, 0, 1, 1, 1, 1, 0, 1, 0, 0, 0, 1, 1, 1, 0, 0, 1, 0, 0, 1, 0, 1, 1, 0, 1, 1, 1, 0, 1, 1, 0, 0, 1, 1, 0, 1, 0, 1, 0, 1, 1]\n"
     ]
    }
   ],
   "source": [
    "for i in range(2**6):\n",
    "    lsfr_3 = SFR(6, [1,1,1,1,1,1], dex_to_bin(i, width=6))\n",
    "    if first_15_output[:] == lsfr_3.get_full_cycle()[:15]:\n",
    "        print(i)\n",
    "print(dex_to_bin(3, width=6))\n",
    "lsfr_3 = SFR(6, [1,1,1,1,1,1], dex_to_bin(3, width=6))\n",
    "lsfr_3.print_full_cycle()\n",
    "lsfr_3 = SFR(6, [1,1,1,1,1,1], dex_to_bin(3, width=6))"
   ]
  },
  {
   "attachments": {},
   "cell_type": "markdown",
   "metadata": {},
   "source": [
    "穷举发现只有[0,0,0,0,1,1]这组函数符合\n",
    "\n",
    "即$f(\\vec a) = a_5\\oplus a_6$"
   ]
  },
  {
   "cell_type": "code",
   "execution_count": 116,
   "metadata": {},
   "outputs": [
    {
     "name": "stdout",
     "output_type": "stream",
     "text": [
      "45\n",
      "[0, 1, 0, 0, 1, 1, 1, 1, 1, 1, 0, 0, 0, 0, 0, 1, 1, 0, 1, 0, 0, 0, 1, 0, 0, 0, 0, 0, 1, 1, 0, 1, 0, 0, 1, 1, 1, 1, 0, 0, 0, 0, 0, 0, 1]\n",
      "[1, 1, 1, 1, 1, 0, 1, 1, 1, 1, 1, 1, 0, 1, 1, 1, 1, 1, 1, 0, 1, 1, 1, 1, 1, 1, 0, 1, 1, 1, 1, 1, 1, 0, 1, 1, 1, 1, 1, 1, 0, 1, 1, 1, 1]\n",
      "[1, 0, 1, 1, 0, 1, 0, 0, 0, 0, 1, 1, 0, 1, 1, 0, 0, 1, 0, 0, 1, 1, 0, 1, 1, 1, 0, 1, 0, 0, 1, 0, 1, 0, 0, 0, 0, 0, 1, 1, 0, 1, 1, 1, 0]\n"
     ]
    }
   ],
   "source": [
    "cipher_bin = \\\n",
    "    dex_to_bin(dictionary['J']) + \\\n",
    "    dex_to_bin(dictionary['5']) + \\\n",
    "    dex_to_bin(dictionary['A']) + \\\n",
    "    dex_to_bin(dictionary['0']) + \\\n",
    "    dex_to_bin(dictionary['E']) + \\\n",
    "    dex_to_bin(dictionary['D']) + \\\n",
    "    dex_to_bin(dictionary['J']) + \\\n",
    "    dex_to_bin(dictionary['2']) + \\\n",
    "    dex_to_bin(dictionary['B'])\n",
    "key_bin = []\n",
    "print(len(cipher_bin))\n",
    "for i in range(len(cipher_bin)):\n",
    "    key_bin.append(lsfr_3.output_tail())\n",
    "    lsfr_3.step_n(1)\n",
    "print(cipher_bin)\n",
    "print(key_bin)\n",
    "plain_text_bin = np.asarray(cipher_bin) ^ np.asarray(key_bin)\n",
    "print(list(plain_text_bin))"
   ]
  },
  {
   "cell_type": "code",
   "execution_count": 119,
   "metadata": {},
   "outputs": [
    {
     "name": "stdout",
     "output_type": "stream",
     "text": [
      "['W', 'Q', '1', 'E', '1', 'U', 'U', 'D', 'O']\n"
     ]
    }
   ],
   "source": [
    "plain_text_result = []\n",
    "for i in range(len(plain_text_bin)//5):\n",
    "    plain_text_result.append(\n",
    "        alpha[\n",
    "            plain_text_bin[i*5+0] * (2**4) + \\\n",
    "            plain_text_bin[i*5+1] * (2**3) + \\\n",
    "            plain_text_bin[i*5+2] * (2**2) + \\\n",
    "            plain_text_bin[i*5+3] * (2**1) + \\\n",
    "            plain_text_bin[i*5+4] * (2**0)\n",
    "        ]\n",
    "    )\n",
    "print(plain_text_result)\n"
   ]
  },
  {
   "attachments": {},
   "cell_type": "markdown",
   "metadata": {},
   "source": [
    "解密信息为WQ1E1UUDO\n",
    "\n",
    "执行的是部分明文攻击"
   ]
  }
 ],
 "metadata": {
  "kernelspec": {
   "display_name": "base",
   "language": "python",
   "name": "python3"
  },
  "language_info": {
   "codemirror_mode": {
    "name": "ipython",
    "version": 3
   },
   "file_extension": ".py",
   "mimetype": "text/x-python",
   "name": "python",
   "nbconvert_exporter": "python",
   "pygments_lexer": "ipython3",
   "version": "3.9.12"
  },
  "orig_nbformat": 4
 },
 "nbformat": 4,
 "nbformat_minor": 2
}
